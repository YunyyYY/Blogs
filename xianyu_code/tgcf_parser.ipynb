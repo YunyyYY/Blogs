{
  "nbformat": 4,
  "nbformat_minor": 0,
  "metadata": {
    "colab": {
      "name": "novel_parser.ipynb",
      "provenance": [],
      "collapsed_sections": [],
      "include_colab_link": true
    },
    "kernelspec": {
      "name": "python3",
      "display_name": "Python 3"
    }
  },
  "cells": [
    {
      "cell_type": "markdown",
      "metadata": {
        "id": "view-in-github",
        "colab_type": "text"
      },
      "source": [
        "<a href=\"https://colab.research.google.com/github/YunyyYY/xianyu/blob/master/novel_parser.ipynb\" target=\"_parent\"><img src=\"https://colab.research.google.com/assets/colab-badge.svg\" alt=\"Open In Colab\"/></a>"
      ]
    },
    {
      "cell_type": "code",
      "metadata": {
        "id": "-GVoM2zDJxzw",
        "colab_type": "code",
        "outputId": "70f7c7e8-e133-4413-bb9c-a6800f996203",
        "colab": {
          "base_uri": "https://localhost:8080/",
          "height": 122
        }
      },
      "source": [
        "from google.colab import drive\n",
        "drive.mount('/content/gdrive')"
      ],
      "execution_count": 1,
      "outputs": [
        {
          "output_type": "stream",
          "text": [
            "Go to this URL in a browser: https://accounts.google.com/o/oauth2/auth?client_id=947318989803-6bn6qk8qdgf4n4g3pfee6491hc0brc4i.apps.googleusercontent.com&redirect_uri=urn%3aietf%3awg%3aoauth%3a2.0%3aoob&response_type=code&scope=email%20https%3a%2f%2fwww.googleapis.com%2fauth%2fdocs.test%20https%3a%2f%2fwww.googleapis.com%2fauth%2fdrive%20https%3a%2f%2fwww.googleapis.com%2fauth%2fdrive.photos.readonly%20https%3a%2f%2fwww.googleapis.com%2fauth%2fpeopleapi.readonly\n",
            "\n",
            "Enter your authorization code:\n",
            "··········\n",
            "Mounted at /content/gdrive\n"
          ],
          "name": "stdout"
        }
      ]
    },
    {
      "cell_type": "code",
      "metadata": {
        "id": "xRabhBgi-v8G",
        "colab_type": "code",
        "colab": {
          "base_uri": "https://localhost:8080/",
          "height": 34
        },
        "outputId": "0c90f007-88ae-4058-d369-6a5bad6981ba"
      },
      "source": [
        "%cd gdrive/My\\ Drive/messy"
      ],
      "execution_count": 56,
      "outputs": [
        {
          "output_type": "stream",
          "text": [
            "/content/gdrive/My Drive/messy\n"
          ],
          "name": "stdout"
        }
      ]
    },
    {
      "cell_type": "code",
      "metadata": {
        "id": "9_v7zt6_KlNK",
        "colab_type": "code",
        "colab": {}
      },
      "source": [
        "from bs4 import BeautifulSoup\n",
        "import pandas as pd\n",
        "import numpy as np\n",
        "import requests\n",
        "import re"
      ],
      "execution_count": 0,
      "outputs": []
    },
    {
      "cell_type": "code",
      "metadata": {
        "id": "2OqpxWofK3Bh",
        "colab_type": "code",
        "colab": {}
      },
      "source": [
        "index = requests.get('https://www.luoxia.com/tianguancifu/')\n",
        "soup = BeautifulSoup(index.content, 'html.parser')"
      ],
      "execution_count": 0,
      "outputs": []
    },
    {
      "cell_type": "code",
      "metadata": {
        "id": "b_2a152CLTfa",
        "colab_type": "code",
        "colab": {}
      },
      "source": [
        "mylist = soup.findAll(\"div\", {\"class\": \"book-list clearfix\"})\n",
        "mylist = mylist[0]\n",
        "lis = mylist.find_all('a')"
      ],
      "execution_count": 0,
      "outputs": []
    },
    {
      "cell_type": "code",
      "metadata": {
        "id": "aOeSYeqT7ZSK",
        "colab_type": "code",
        "colab": {}
      },
      "source": [
        "title = []\n",
        "for a in lis:\n",
        "    title.append(a.get('title'))"
      ],
      "execution_count": 0,
      "outputs": []
    },
    {
      "cell_type": "code",
      "metadata": {
        "id": "u7tzskE9Mlqq",
        "colab_type": "code",
        "colab": {}
      },
      "source": [
        "urls = []\n",
        "for a in lis:\n",
        "    # get content links\n",
        "    urls.append(a.get('href'))"
      ],
      "execution_count": 0,
      "outputs": []
    },
    {
      "cell_type": "code",
      "metadata": {
        "id": "ucQoflo9OEHC",
        "colab_type": "code",
        "colab": {}
      },
      "source": [
        "raw_text = []\n",
        "for url in urls:\n",
        "    page = requests.get(url)\n",
        "    soup = BeautifulSoup(page.content, 'html.parser')\n",
        "    raw_text.append(soup.find(id='nr1'))"
      ],
      "execution_count": 0,
      "outputs": []
    },
    {
      "cell_type": "markdown",
      "metadata": {
        "id": "DH79ZLZpth8Z",
        "colab_type": "text"
      },
      "source": [
        "### Parse each chapter"
      ]
    },
    {
      "cell_type": "code",
      "metadata": {
        "id": "SUs9cr3y7n1H",
        "colab_type": "code",
        "colab": {}
      },
      "source": [
        "def get_text(raw):\n",
        "    # remove the ad containers\n",
        "    x  = raw.find_all('p')\n",
        "    content = \"\"\n",
        "    for sen in x:\n",
        "        tmp = \"\".join(sen.findAll(text=True))\n",
        "        # remove the insrted website logo\n",
        "        if bool(re.search('.*落.*霞.*小.*说.*', tmp)) == False:\n",
        "            content += tmp\n",
        "    return content"
      ],
      "execution_count": 0,
      "outputs": []
    },
    {
      "cell_type": "code",
      "metadata": {
        "id": "wEfadzQdTeKf",
        "colab_type": "code",
        "colab": {}
      },
      "source": [
        "chapters = []\n",
        "for x in raw_text:\n",
        "    chapters.append(get_text(x))"
      ],
      "execution_count": 0,
      "outputs": []
    },
    {
      "cell_type": "code",
      "metadata": {
        "id": "Xr_jMd2U-qJ3",
        "colab_type": "code",
        "colab": {
          "base_uri": "https://localhost:8080/",
          "height": 34
        },
        "outputId": "4d6a87f8-e738-4473-b2ad-d3e708a481ef"
      },
      "source": [
        "len(chapters)"
      ],
      "execution_count": 46,
      "outputs": [
        {
          "output_type": "execute_result",
          "data": {
            "text/plain": [
              "230"
            ]
          },
          "metadata": {
            "tags": []
          },
          "execution_count": 46
        }
      ]
    },
    {
      "cell_type": "markdown",
      "metadata": {
        "id": "eYthyr0IAXrP",
        "colab_type": "text"
      },
      "source": [
        "### Generate document"
      ]
    },
    {
      "cell_type": "code",
      "metadata": {
        "id": "xLHHT2DtAdew",
        "colab_type": "code",
        "colab": {
          "base_uri": "https://localhost:8080/",
          "height": 224
        },
        "outputId": "184e8cd3-d8be-4f1d-f018-1833c36e620f"
      },
      "source": [
        "!pip install python-docx"
      ],
      "execution_count": 49,
      "outputs": [
        {
          "output_type": "stream",
          "text": [
            "Collecting python-docx\n",
            "\u001b[?25l  Downloading https://files.pythonhosted.org/packages/e4/83/c66a1934ed5ed8ab1dbb9931f1779079f8bca0f6bbc5793c06c4b5e7d671/python-docx-0.8.10.tar.gz (5.5MB)\n",
            "\u001b[K     |████████████████████████████████| 5.5MB 4.6MB/s \n",
            "\u001b[?25hRequirement already satisfied: lxml>=2.3.2 in /usr/local/lib/python3.6/dist-packages (from python-docx) (4.2.6)\n",
            "Building wheels for collected packages: python-docx\n",
            "  Building wheel for python-docx (setup.py) ... \u001b[?25l\u001b[?25hdone\n",
            "  Created wheel for python-docx: filename=python_docx-0.8.10-cp36-none-any.whl size=184491 sha256=df4b231b74a46e895b761842dd6403e1ce4cb0a96dd8e8f311a3b2b877e98299\n",
            "  Stored in directory: /root/.cache/pip/wheels/18/0b/a0/1dd62ff812c857c9e487f27d80d53d2b40531bec1acecfa47b\n",
            "Successfully built python-docx\n",
            "Installing collected packages: python-docx\n",
            "Successfully installed python-docx-0.8.10\n"
          ],
          "name": "stdout"
        }
      ]
    },
    {
      "cell_type": "code",
      "metadata": {
        "id": "M4B-OfW1AXcP",
        "colab_type": "code",
        "colab": {}
      },
      "source": [
        "from docx import Document\n",
        "from docx.shared import Inches"
      ],
      "execution_count": 0,
      "outputs": []
    },
    {
      "cell_type": "code",
      "metadata": {
        "id": "nBbdyD5CBcjy",
        "colab_type": "code",
        "colab": {}
      },
      "source": [
        "document = Document()\n",
        "\n",
        "h = document.add_heading('天官赐福', 0)\n",
        "h.alignment = 1\n",
        "document.add_paragraph('\\n')\n",
        "for i, t in enumerate(title):\n",
        "    h = document.add_heading(t, 1)\n",
        "    h.alignment = 1\n",
        "    document.add_paragraph('\\n')\n",
        "    document.add_paragraph(chapters[i])\n",
        "    document.add_paragraph('\\n')\n"
      ],
      "execution_count": 0,
      "outputs": []
    },
    {
      "cell_type": "code",
      "metadata": {
        "id": "hp-nhyrBBtR6",
        "colab_type": "code",
        "colab": {}
      },
      "source": [
        "document.save('tgcf.docx')"
      ],
      "execution_count": 0,
      "outputs": []
    },
    {
      "cell_type": "code",
      "metadata": {
        "id": "sl6dQ5-eD7lh",
        "colab_type": "code",
        "colab": {}
      },
      "source": [
        ""
      ],
      "execution_count": 0,
      "outputs": []
    }
  ]
}
